{
 "cells": [
  {
   "cell_type": "markdown",
   "metadata": {},
   "source": [
    "# Web Mining and Applied NLP (44-620)\n",
    "\n",
    "## Python Notebooks, Basics, and Data Structures\n",
    "\n",
    "### Student Name: Naiema Elsaadi\n",
    "\n",
    "[GitHub Repository](https://github.com/NaiemaElsaadi/python-ds.ipynb)\n",
    "\n",
    "Welcome to my Python Notebooks, Basics, and Data Structures repository! I'm excited to explore various concepts in Python programming, data structures, and applied NLP. Feel free to browse through my notebooks and projects, and don't hesitate to reach out if you have any questions or suggestions. "
   ]
  },
  {
   "cell_type": "markdown",
   "metadata": {},
   "source": [
    "<b>1. Modify the Markdown cell above to put your name after \"Student Name:\"; you will be expected to do this in all assignments presented in this format for this class."
   ]
  },
  {
   "cell_type": "markdown",
   "metadata": {},
   "source": [
    "<b>2. Write code that divides any two numbers, stores the result in a variable, and prints the result with an appropriate label."
   ]
  },
  {
   "cell_type": "code",
   "execution_count": 1,
   "metadata": {},
   "outputs": [
    {
     "name": "stdout",
     "output_type": "stream",
     "text": [
      "The result of dividing 10 by 2 is: 5.0\n"
     ]
    }
   ],
   "source": [
    "# My name is Naiema Elsaadi\n",
    "# Define the numbers\n",
    "A = 10\n",
    "B = 2\n",
    "\n",
    "# Perform division\n",
    "result =A / B\n",
    "\n",
    "# Print the result with an appropriate label\n",
    "print(f\"The result of dividing {A} by {B} is: {result}\")\n"
   ]
  },
  {
   "cell_type": "markdown",
   "metadata": {},
   "source": [
    "<b>3. Using loops (and potentially conditionals), write Python code that prints the factorial of each integer from 1 through 10 (which you can store in a variable if you want). The factorial of an integer is the product of all of the integers of 1 through the number. Print the result with an appropriate label."
   ]
  },
  {
   "cell_type": "code",
   "execution_count": 2,
   "metadata": {},
   "outputs": [
    {
     "name": "stdout",
     "output_type": "stream",
     "text": [
      "The factorial of 1 is: 1\n",
      "The factorial of 2 is: 2\n",
      "The factorial of 3 is: 6\n",
      "The factorial of 4 is: 24\n",
      "The factorial of 5 is: 120\n",
      "The factorial of 6 is: 720\n",
      "The factorial of 7 is: 5040\n",
      "The factorial of 8 is: 40320\n",
      "The factorial of 9 is: 362880\n",
      "The factorial of 10 is: 3628800\n"
     ]
    }
   ],
   "source": [
    "# My name is Naiema\n",
    "# Function to calculate factorial\n",
    "def factorial(n):\n",
    "    if n == 0 or n == 1:\n",
    "        return 1\n",
    "    else:\n",
    "        return n * factorial(n-1)\n",
    "\n",
    "# Loop through integers from 1 to 10\n",
    "for i in range(1, 11):\n",
    "    # Calculate factorial\n",
    "    fact = factorial(i)\n",
    "    \n",
    "    # Print the result with an appropriate label\n",
    "    print(f\"The factorial of {i} is: {fact}\")\n"
   ]
  },
  {
   "cell_type": "markdown",
   "metadata": {},
   "source": [
    "<b> 4. Write a python function that takes a single parameter and calculates and returns the average (mean) of the values in the parameter (which you may assume is iterable).  Show that your function works by printing the result of calling the function on the list in the cell below."
   ]
  },
  {
   "cell_type": "code",
   "execution_count": 3,
   "metadata": {},
   "outputs": [
    {
     "name": "stdout",
     "output_type": "stream",
     "text": [
      "The average of the values in the list is: 0.0\n"
     ]
    }
   ],
   "source": [
    "testlist = [1,-1,2,-2,3,-3,4,-4]\n",
    "\n",
    "def calculate_average(iterable):\n",
    "    # Check if the iterable is empty\n",
    "    if not iterable:\n",
    "        return 0  # Return 0 if the iterable is empty to avoid division by zero error\n",
    "    \n",
    "    # Calculate the sum of all values in the iterable\n",
    "    total = sum(iterable)\n",
    "    \n",
    "    # Calculate the average (mean)\n",
    "    average = total / len(iterable)\n",
    "    \n",
    "    return average\n",
    "\n",
    "# Test the function\n",
    "testlist = [1, -1, 2, -2, 3, -3, 4, -4]\n",
    "result = calculate_average(testlist)\n",
    "print(\"The average of the values in the list is:\", result)\n"
   ]
  },
  {
   "cell_type": "markdown",
   "metadata": {},
   "source": [
    "<b> 5. Using your mean function above, write a function that calculates the variance of the list of numbers (see https://en.wikipedia.org/wiki/Variance for more information on the formula). In short:\n",
    "<b>\n",
    "* subtract the mean of the elements in the list from every element in the list; store these values in a new list\n",
    "* square every element in the new list and sum the elements together\n",
    "* divide the resulting number by N (where N is the length of the original list)\n",
    "\n",
    "<b>Show the result of calling your function in the lists in the code cell. You must use one or more list comprehensions or map/filter in your code.\n"
   ]
  },
  {
   "cell_type": "code",
   "execution_count": 4,
   "metadata": {},
   "outputs": [
    {
     "name": "stdout",
     "output_type": "stream",
     "text": [
      "Variance of list1: 1.13973309\n",
      "Variance of list2: 0.9257232841\n"
     ]
    }
   ],
   "source": [
    "list1 = [ 5.670e-1, -1.480e+0, -5.570e-1, -1.470e+0, 7.340e-1, 1.050e+0, 4.480e-1, 2.570e-1, -1.970e+0, -1.460e+0]\n",
    "list2 = [-1.780e+0, 2.640e-1, 1.160e+0, 9.080e-1, 1.780e+0, 1.080e+0, 1.050e+0, -4.630e-2, 1.520e+0, 5.350e-1]\n",
    "# the variances of both lists should be relatively close to 1 (off by less than .15)\n",
    "\n",
    "def calculate_variance(data):\n",
    "    # Calculate the mean of the data\n",
    "    mean = sum(data) / len(data)\n",
    "    \n",
    "    # Subtract the mean from every element in the list and store these values in a new list\n",
    "    differences = [(x - mean) for x in data]\n",
    "    \n",
    "    # Square every element in the new list and sum the elements together\n",
    "    squared_differences = sum([(x ** 2) for x in differences])\n",
    "    \n",
    "    # Divide the resulting number by N (where N is the length of the original list)\n",
    "    variance = squared_differences / len(data)\n",
    "    \n",
    "    return variance\n",
    "\n",
    "# Test the function with list1 and list2\n",
    "list1 = [5.670e-1, -1.480e+0, -5.570e-1, -1.470e+0, 7.340e-1, 1.050e+0, 4.480e-1, 2.570e-1, -1.970e+0, -1.460e+0]\n",
    "list2 = [-1.780e+0, 2.640e-1, 1.160e+0, 9.080e-1, 1.780e+0, 1.080e+0, 1.050e+0, -4.630e-2, 1.520e+0, 5.350e-1]\n",
    "\n",
    "variance_list1 = calculate_variance(list1)\n",
    "variance_list2 = calculate_variance(list2)\n",
    "\n",
    "print(\"Variance of list1:\", variance_list1)\n",
    "print(\"Variance of list2:\", variance_list2)\n"
   ]
  },
  {
   "cell_type": "markdown",
   "metadata": {},
   "source": [
    "<b>6. Create a list with at least 15 elements in it. Use list slicing to print the following:\n",
    "* The first 5 elements of the list\n",
    "* The last 5 elements of the list\n",
    "* The list reversed (hint, show the entire list with a stride of -1)\n",
    "* Every second element in the list\n",
    "* Every third element in the list (stride of 3)"
   ]
  },
  {
   "cell_type": "code",
   "execution_count": 5,
   "metadata": {},
   "outputs": [
    {
     "name": "stdout",
     "output_type": "stream",
     "text": [
      "The first 5 elements of the list: [1, 2, 3, 4, 5]\n",
      "The last 5 elements of the list: [11, 12, 13, 14, 15]\n",
      "The list reversed: [15, 14, 13, 12, 11, 10, 9, 8, 7, 6, 5, 4, 3, 2, 1]\n",
      "Every second element in the list: [1, 3, 5, 7, 9, 11, 13, 15]\n",
      "Every third element in the list: [1, 4, 7, 10, 13]\n"
     ]
    }
   ],
   "source": [
    "# Create a list with at least 15 elements\n",
    "my_list = [i for i in range(1, 16)]\n",
    "\n",
    "# Print the first 5 elements of the list\n",
    "print(\"The first 5 elements of the list:\", my_list[:5])\n",
    "\n",
    "# Print the last 5 elements of the list\n",
    "print(\"The last 5 elements of the list:\", my_list[-5:])\n",
    "\n",
    "# Print the list reversed\n",
    "print(\"The list reversed:\", my_list[::-1])\n",
    "\n",
    "# Print every second element in the list\n",
    "print(\"Every second element in the list:\", my_list[::2])\n",
    "\n",
    "# Print every third element in the list (stride of 3)\n",
    "print(\"Every third element in the list:\", my_list[::3])\n"
   ]
  },
  {
   "cell_type": "markdown",
   "metadata": {},
   "source": [
    "<b>7. Build a dictionary that contains the following information about this class (with appropriate names as keys):\n",
    "* The name\n",
    "* The course number\n",
    "* The semester/term in which you are taking this course\n",
    "* The number of credit hours this course counts for\n",
    "* A list of the course learning objectives\n",
    "\n",
    "<b>The majority of this information can be found in the syllabus. Print the dictionary."
   ]
  },
  {
   "cell_type": "code",
   "execution_count": 6,
   "metadata": {},
   "outputs": [
    {
     "name": "stdout",
     "output_type": "stream",
     "text": [
      "{'name': 'Web Mining and Applied Analytics', 'course_number': '44-620', 'semester': 'Spring 2024', 'credit_hours': 3, 'learning_objectives': ['Understand fundamental concepts of web mining', 'Learn various techniques for web data collection and preprocessing', 'Explore methods for analyzing web data to extract useful information', 'Apply machine learning algorithms to web data for prediction and classification', 'Understand ethical considerations and privacy issues in web mining']}\n"
     ]
    }
   ],
   "source": [
    "# Create a dictionary to store information about the class\n",
    "class_info = {\n",
    "    \"name\": \"Web Mining and Applied Analytics\",\n",
    "    \"course_number\": \"44-620\",\n",
    "    \"semester\": \"Spring 2024\",\n",
    "    \"credit_hours\": 3,\n",
    "    \"learning_objectives\": [\n",
    "        \"Understand fundamental concepts of web mining\",\n",
    "        \"Learn various techniques for web data collection and preprocessing\",\n",
    "        \"Explore methods for analyzing web data to extract useful information\",\n",
    "        \"Apply machine learning algorithms to web data for prediction and classification\",\n",
    "        \"Understand ethical considerations and privacy issues in web mining\"\n",
    "    ]\n",
    "}\n",
    "\n",
    "# Print the dictionary\n",
    "print(class_info)\n"
   ]
  },
  {
   "cell_type": "markdown",
   "metadata": {},
   "source": [
    "<b>8.  Given the dictionary defined in the code cell below, print the list of level 3 spells the character has."
   ]
  },
  {
   "cell_type": "code",
   "execution_count": 7,
   "metadata": {},
   "outputs": [
    {
     "name": "stdout",
     "output_type": "stream",
     "text": [
      "List of level 3 spells: ['Mass Healing Word', 'Nondetection', 'Revivify', 'Feign Death', 'Speak with Dead']\n"
     ]
    }
   ],
   "source": [
    "\n",
    "player_character = {'name': 'Kitab',\n",
    "                   'class': [('Cleric: Knowledge', 7)],\n",
    "                   'spells': {'cantrip': ['Guidance', 'Light', 'Thaumaturgy', 'Toll the Dead', 'Word of Radiance'],\n",
    "                             'level 1': ['Command', 'Detect Magic', 'Healing Word', 'Identify', 'Sleep'],\n",
    "                             'level 2': ['Augury', 'Calm Emotions', 'Command', 'Invisibility', 'Lesser Restoration'],\n",
    "                             'level 3': ['Mass Healing Word', 'Nondetection', 'Revivify', 'Feign Death', 'Speak with Dead'],\n",
    "                             'level 4': ['Banishment', 'Confusion']}\n",
    "                   }\n",
    "\n",
    "# Print the list of level 3 spells\n",
    "print(\"List of level 3 spells:\", player_character['spells']['level 3'])\n"
   ]
  },
  {
   "cell_type": "markdown",
   "metadata": {},
   "source": [
    "<b>9. Write code to determine the number of unique elements in the list below.  You MUST use a set in finding your solution.  Print the number of unique values in the list with an appropriate label."
   ]
  },
  {
   "cell_type": "code",
   "execution_count": 8,
   "metadata": {},
   "outputs": [
    {
     "name": "stdout",
     "output_type": "stream",
     "text": [
      "Number of unique values in the list: 12\n"
     ]
    }
   ],
   "source": [
    "\n",
    "values = [10, 11, 10, 8, 1, 12, 0, 1, 6, 5, 5, 13, 6, 15, 0, 0, 1, 1, 9, 7]\n",
    "\n",
    "# Use a set to find unique elements\n",
    "unique_values = set(values)\n",
    "\n",
    "# Calculate the number of unique elements\n",
    "num_unique_values = len(unique_values)\n",
    "\n",
    "# Print the number of unique values with an appropriate label\n",
    "print(\"Number of unique values in the list:\", num_unique_values)\n"
   ]
  },
  {
   "cell_type": "markdown",
   "metadata": {},
   "source": [
    "<b>10. Create a new Jupyter Notebook (the name of the notebook should be your S number). Add a Markdown cell that contains your name. Add a Code cell and write Python that uses loops to draw the following pattern:\n",
    "\n",
    "```\n",
    "*      *\n",
    "**    **\n",
    "***  ***\n",
    "********\n",
    "```\n",
    "<b>Make sure to add and submit both the new notebook and the changes to this notebook for this assignment."
   ]
  },
  {
   "cell_type": "code",
   "execution_count": 9,
   "metadata": {},
   "outputs": [
    {
     "name": "stdout",
     "output_type": "stream",
     "text": [
      "Naiema Elsaadi\n"
     ]
    }
   ],
   "source": [
    "## See \"s556619.ipynb\" \n",
    "print(\"Naiema Elsaadi\")"
   ]
  },
  {
   "cell_type": "code",
   "execution_count": 10,
   "metadata": {},
   "outputs": [
    {
     "name": "stdout",
     "output_type": "stream",
     "text": [
      "*      *\n",
      "**    **\n",
      "***  ***\n",
      "********\n"
     ]
    }
   ],
   "source": [
    "# Define the number of rows for the pattern\n",
    "rows = 4\n",
    "\n",
    "# Loop through each row\n",
    "for i in range(rows):\n",
    "    # Print '*' for the left side of the pattern\n",
    "    for j in range(i + 1):\n",
    "        print('*', end='')\n",
    "    \n",
    "    # Print spaces for the middle of the pattern\n",
    "    for k in range(2 * (rows - i - 1)):\n",
    "        print(' ', end='')\n",
    "    \n",
    "    # Print '*' for the right side of the pattern\n",
    "    for l in range(i + 1):\n",
    "        print('*', end='')\n",
    "    \n",
    "    # Move to the next line after each row\n",
    "    print()\n"
   ]
  },
  {
   "cell_type": "code",
   "execution_count": 11,
   "metadata": {},
   "outputs": [
    {
     "name": "stderr",
     "output_type": "stream",
     "text": [
      "[NbConvertApp] Converting notebook python-ds.ipynb to html\n",
      "[NbConvertApp] Writing 614713 bytes to python-ds.html\n"
     ]
    }
   ],
   "source": [
    "!jupyter nbconvert --to html python-ds.ipynb"
   ]
  }
 ],
 "metadata": {
  "kernelspec": {
   "display_name": "Python 3 (ipykernel)",
   "language": "python",
   "name": "python3"
  },
  "language_info": {
   "codemirror_mode": {
    "name": "ipython",
    "version": 3
   },
   "file_extension": ".py",
   "mimetype": "text/x-python",
   "name": "python",
   "nbconvert_exporter": "python",
   "pygments_lexer": "ipython3",
   "version": "3.9.12"
  }
 },
 "nbformat": 4,
 "nbformat_minor": 4
}
