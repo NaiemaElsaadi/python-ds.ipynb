{
 "cells": [
  {
   "cell_type": "markdown",
   "id": "0145e512-67c0-412b-9fd0-80a99c5f98c1",
   "metadata": {},
   "source": [
    "<b>10. Create a new Jupyter Notebook (the name of the notebook should be your S number). Add a Markdown cell that contains your name. Add a Code cell and write Python that uses loops to draw the following pattern:\n",
    "\n",
    "\n",
    "```\n",
    "*      *\n",
    "**    **\n",
    "***  ***\n",
    "********\n",
    "```"
   ]
  },
  {
   "cell_type": "markdown",
   "id": "c5998504-e5a2-41af-9a8b-08cc7de8e185",
   "metadata": {},
   "source": [
    "# Naiema Elsaadi"
   ]
  },
  {
   "cell_type": "code",
   "execution_count": 1,
   "id": "8dbcd7b3-1f62-48f6-87be-99d9fdabdc5b",
   "metadata": {},
   "outputs": [
    {
     "name": "stdout",
     "output_type": "stream",
     "text": [
      "*     *\n",
      "**   **\n",
      "*** ***\n",
      "*******\n"
     ]
    }
   ],
   "source": [
    "# Pattern drawing code\n",
    "n = 4\n",
    "for i in range(1, n + 1):\n",
    "    for j in range(1, 2 * n):\n",
    "        if j <= i or j >= 2 * n - i:\n",
    "            print(\"*\", end=\"\")\n",
    "        else:\n",
    "            print(\" \", end=\"\")\n",
    "    print()\n"
   ]
  },
  {
   "cell_type": "code",
   "execution_count": 2,
   "id": "1ef0ccad-db57-4796-bb81-90a3f77b8cd1",
   "metadata": {},
   "outputs": [
    {
     "name": "stdout",
     "output_type": "stream",
     "text": [
      "Naiema Elsaadi\n"
     ]
    }
   ],
   "source": [
    "print(\"Naiema Elsaadi\")"
   ]
  },
  {
   "cell_type": "code",
   "execution_count": 3,
   "id": "dff59de4-07a4-4fc6-991b-ced94435a052",
   "metadata": {},
   "outputs": [
    {
     "name": "stderr",
     "output_type": "stream",
     "text": [
      "[NbConvertApp] Converting notebook s556619.ipynb to html\n",
      "[NbConvertApp] Writing 578907 bytes to s556619.html\n"
     ]
    }
   ],
   "source": [
    "!jupyter nbconvert --to html s556619.ipynb"
   ]
  }
 ],
 "metadata": {
  "kernelspec": {
   "display_name": "Python 3 (ipykernel)",
   "language": "python",
   "name": "python3"
  },
  "language_info": {
   "codemirror_mode": {
    "name": "ipython",
    "version": 3
   },
   "file_extension": ".py",
   "mimetype": "text/x-python",
   "name": "python",
   "nbconvert_exporter": "python",
   "pygments_lexer": "ipython3",
   "version": "3.9.12"
  }
 },
 "nbformat": 4,
 "nbformat_minor": 5
}
