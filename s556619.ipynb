{
 "cells": [
  {
   "cell_type": "markdown",
   "id": "c5998504-e5a2-41af-9a8b-08cc7de8e185",
   "metadata": {},
   "source": [
    "# Naiema Elsaadi"
   ]
  },
  {
   "cell_type": "code",
   "execution_count": 1,
   "id": "8dbcd7b3-1f62-48f6-87be-99d9fdabdc5b",
   "metadata": {},
   "outputs": [
    {
     "name": "stdout",
     "output_type": "stream",
     "text": [
      "*     *\n",
      "**   **\n",
      "*** ***\n",
      "*******\n"
     ]
    }
   ],
   "source": [
    "# Pattern drawing code\n",
    "rows = 4\n",
    "for i in range(1, rows + 1):\n",
    "    for j in range(1, 2 * rows):\n",
    "        if j <= i or j >= 2 * rows - i:\n",
    "            print(\"*\", end=\"\")\n",
    "        else:\n",
    "            print(\" \", end=\"\")\n",
    "    print()\n"
   ]
  },
  {
   "cell_type": "code",
   "execution_count": 2,
   "id": "1ef0ccad-db57-4796-bb81-90a3f77b8cd1",
   "metadata": {},
   "outputs": [
    {
     "name": "stdout",
     "output_type": "stream",
     "text": [
      "Naiema Elsaadi\n"
     ]
    }
   ],
   "source": [
    "print(\"Naiema Elsaadi\")"
   ]
  },
  {
   "cell_type": "code",
   "execution_count": null,
   "id": "8f35e6de-c084-4605-a779-7666f970f198",
   "metadata": {},
   "outputs": [],
   "source": []
  }
 ],
 "metadata": {
  "kernelspec": {
   "display_name": "Python 3 (ipykernel)",
   "language": "python",
   "name": "python3"
  },
  "language_info": {
   "codemirror_mode": {
    "name": "ipython",
    "version": 3
   },
   "file_extension": ".py",
   "mimetype": "text/x-python",
   "name": "python",
   "nbconvert_exporter": "python",
   "pygments_lexer": "ipython3",
   "version": "3.9.12"
  }
 },
 "nbformat": 4,
 "nbformat_minor": 5
}
